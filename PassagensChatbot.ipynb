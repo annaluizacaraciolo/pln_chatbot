{
  "cells": [
    {
      "cell_type": "markdown",
      "metadata": {
        "id": "MZ22pBRX98Rn"
      },
      "source": [
        "#Load data"
      ]
    },
    {
      "cell_type": "code",
      "execution_count": null,
      "metadata": {
        "colab": {
          "base_uri": "https://localhost:8080/",
          "height": 73
        },
        "id": "8u16EHBM-rtV",
        "outputId": "b1d28d0a-fc61-4907-dfc8-40ac03de7ae3"
      },
      "outputs": [
        {
          "output_type": "display_data",
          "data": {
            "text/plain": [
              "<IPython.core.display.HTML object>"
            ],
            "text/html": [
              "\n",
              "     <input type=\"file\" id=\"files-0a2fe849-dd76-46a7-8304-6002a174d0b6\" name=\"files[]\" multiple disabled\n",
              "        style=\"border:none\" />\n",
              "     <output id=\"result-0a2fe849-dd76-46a7-8304-6002a174d0b6\">\n",
              "      Upload widget is only available when the cell has been executed in the\n",
              "      current browser session. Please rerun this cell to enable.\n",
              "      </output>\n",
              "      <script>// Copyright 2017 Google LLC\n",
              "//\n",
              "// Licensed under the Apache License, Version 2.0 (the \"License\");\n",
              "// you may not use this file except in compliance with the License.\n",
              "// You may obtain a copy of the License at\n",
              "//\n",
              "//      http://www.apache.org/licenses/LICENSE-2.0\n",
              "//\n",
              "// Unless required by applicable law or agreed to in writing, software\n",
              "// distributed under the License is distributed on an \"AS IS\" BASIS,\n",
              "// WITHOUT WARRANTIES OR CONDITIONS OF ANY KIND, either express or implied.\n",
              "// See the License for the specific language governing permissions and\n",
              "// limitations under the License.\n",
              "\n",
              "/**\n",
              " * @fileoverview Helpers for google.colab Python module.\n",
              " */\n",
              "(function(scope) {\n",
              "function span(text, styleAttributes = {}) {\n",
              "  const element = document.createElement('span');\n",
              "  element.textContent = text;\n",
              "  for (const key of Object.keys(styleAttributes)) {\n",
              "    element.style[key] = styleAttributes[key];\n",
              "  }\n",
              "  return element;\n",
              "}\n",
              "\n",
              "// Max number of bytes which will be uploaded at a time.\n",
              "const MAX_PAYLOAD_SIZE = 100 * 1024;\n",
              "\n",
              "function _uploadFiles(inputId, outputId) {\n",
              "  const steps = uploadFilesStep(inputId, outputId);\n",
              "  const outputElement = document.getElementById(outputId);\n",
              "  // Cache steps on the outputElement to make it available for the next call\n",
              "  // to uploadFilesContinue from Python.\n",
              "  outputElement.steps = steps;\n",
              "\n",
              "  return _uploadFilesContinue(outputId);\n",
              "}\n",
              "\n",
              "// This is roughly an async generator (not supported in the browser yet),\n",
              "// where there are multiple asynchronous steps and the Python side is going\n",
              "// to poll for completion of each step.\n",
              "// This uses a Promise to block the python side on completion of each step,\n",
              "// then passes the result of the previous step as the input to the next step.\n",
              "function _uploadFilesContinue(outputId) {\n",
              "  const outputElement = document.getElementById(outputId);\n",
              "  const steps = outputElement.steps;\n",
              "\n",
              "  const next = steps.next(outputElement.lastPromiseValue);\n",
              "  return Promise.resolve(next.value.promise).then((value) => {\n",
              "    // Cache the last promise value to make it available to the next\n",
              "    // step of the generator.\n",
              "    outputElement.lastPromiseValue = value;\n",
              "    return next.value.response;\n",
              "  });\n",
              "}\n",
              "\n",
              "/**\n",
              " * Generator function which is called between each async step of the upload\n",
              " * process.\n",
              " * @param {string} inputId Element ID of the input file picker element.\n",
              " * @param {string} outputId Element ID of the output display.\n",
              " * @return {!Iterable<!Object>} Iterable of next steps.\n",
              " */\n",
              "function* uploadFilesStep(inputId, outputId) {\n",
              "  const inputElement = document.getElementById(inputId);\n",
              "  inputElement.disabled = false;\n",
              "\n",
              "  const outputElement = document.getElementById(outputId);\n",
              "  outputElement.innerHTML = '';\n",
              "\n",
              "  const pickedPromise = new Promise((resolve) => {\n",
              "    inputElement.addEventListener('change', (e) => {\n",
              "      resolve(e.target.files);\n",
              "    });\n",
              "  });\n",
              "\n",
              "  const cancel = document.createElement('button');\n",
              "  inputElement.parentElement.appendChild(cancel);\n",
              "  cancel.textContent = 'Cancel upload';\n",
              "  const cancelPromise = new Promise((resolve) => {\n",
              "    cancel.onclick = () => {\n",
              "      resolve(null);\n",
              "    };\n",
              "  });\n",
              "\n",
              "  // Wait for the user to pick the files.\n",
              "  const files = yield {\n",
              "    promise: Promise.race([pickedPromise, cancelPromise]),\n",
              "    response: {\n",
              "      action: 'starting',\n",
              "    }\n",
              "  };\n",
              "\n",
              "  cancel.remove();\n",
              "\n",
              "  // Disable the input element since further picks are not allowed.\n",
              "  inputElement.disabled = true;\n",
              "\n",
              "  if (!files) {\n",
              "    return {\n",
              "      response: {\n",
              "        action: 'complete',\n",
              "      }\n",
              "    };\n",
              "  }\n",
              "\n",
              "  for (const file of files) {\n",
              "    const li = document.createElement('li');\n",
              "    li.append(span(file.name, {fontWeight: 'bold'}));\n",
              "    li.append(span(\n",
              "        `(${file.type || 'n/a'}) - ${file.size} bytes, ` +\n",
              "        `last modified: ${\n",
              "            file.lastModifiedDate ? file.lastModifiedDate.toLocaleDateString() :\n",
              "                                    'n/a'} - `));\n",
              "    const percent = span('0% done');\n",
              "    li.appendChild(percent);\n",
              "\n",
              "    outputElement.appendChild(li);\n",
              "\n",
              "    const fileDataPromise = new Promise((resolve) => {\n",
              "      const reader = new FileReader();\n",
              "      reader.onload = (e) => {\n",
              "        resolve(e.target.result);\n",
              "      };\n",
              "      reader.readAsArrayBuffer(file);\n",
              "    });\n",
              "    // Wait for the data to be ready.\n",
              "    let fileData = yield {\n",
              "      promise: fileDataPromise,\n",
              "      response: {\n",
              "        action: 'continue',\n",
              "      }\n",
              "    };\n",
              "\n",
              "    // Use a chunked sending to avoid message size limits. See b/62115660.\n",
              "    let position = 0;\n",
              "    do {\n",
              "      const length = Math.min(fileData.byteLength - position, MAX_PAYLOAD_SIZE);\n",
              "      const chunk = new Uint8Array(fileData, position, length);\n",
              "      position += length;\n",
              "\n",
              "      const base64 = btoa(String.fromCharCode.apply(null, chunk));\n",
              "      yield {\n",
              "        response: {\n",
              "          action: 'append',\n",
              "          file: file.name,\n",
              "          data: base64,\n",
              "        },\n",
              "      };\n",
              "\n",
              "      let percentDone = fileData.byteLength === 0 ?\n",
              "          100 :\n",
              "          Math.round((position / fileData.byteLength) * 100);\n",
              "      percent.textContent = `${percentDone}% done`;\n",
              "\n",
              "    } while (position < fileData.byteLength);\n",
              "  }\n",
              "\n",
              "  // All done.\n",
              "  yield {\n",
              "    response: {\n",
              "      action: 'complete',\n",
              "    }\n",
              "  };\n",
              "}\n",
              "\n",
              "scope.google = scope.google || {};\n",
              "scope.google.colab = scope.google.colab || {};\n",
              "scope.google.colab._files = {\n",
              "  _uploadFiles,\n",
              "  _uploadFilesContinue,\n",
              "};\n",
              "})(self);\n",
              "</script> "
            ]
          },
          "metadata": {}
        },
        {
          "output_type": "stream",
          "name": "stdout",
          "text": [
            "Saving dialogues_018.json to dialogues_018.json\n"
          ]
        }
      ],
      "source": [
        "from google.colab import files\n",
        "uploaded = files.upload()"
      ]
    },
    {
      "cell_type": "code",
      "execution_count": null,
      "metadata": {
        "id": "EVVnuFYREycJ"
      },
      "outputs": [],
      "source": [
        "# intents\n",
        "!mkdir -p dialogue_018/intents/NONE\n",
        "!mkdir -p dialogue_018/intents/SearchOnewayFlight\n",
        "!mkdir -p dialogue_018/intents/ReserveOnewayFlight\n",
        "!mkdir -p dialogue_018/intents/SearchRoundtripFlights\n",
        "!mkdir -p dialogue_018/intents/ReserveRoundtripFlights"
      ]
    },
    {
      "cell_type": "markdown",
      "metadata": {
        "id": "mPzqHs88CbQZ"
      },
      "source": [
        "Script para coletar apenas as utterances (frases) do usuário e armazená-las num diretório que representa a intenção(que será nossa classe para a tarefa de classificação de intenção).</br>\n",
        "<b>atenção</b>: O sistema foi excluído da coleta de utterances porque a resposta do sistema não possui intenção"
      ]
    },
    {
      "cell_type": "code",
      "execution_count": null,
      "metadata": {
        "id": "7mD2KTnt-Rg8"
      },
      "outputs": [],
      "source": [
        "import json\n",
        "import os\n",
        "\n",
        "if __name__ == '__main__':\n",
        "    with open(\"dialogues_018.json\", 'r') as file:\n",
        "        data_018 = json.load(file)\n",
        "\n",
        "    for i in range(len(data_018)):\n",
        "        frames_amount = len(data_018[i]['turns'])\n",
        "        for j in range(frames_amount):\n",
        "            current_frame = data_018[i]['turns'][j]\n",
        "            speaker = current_frame['speaker']\n",
        "            if speaker == 'USER':\n",
        "                intent = current_frame['frames'][0]['state']['active_intent']\n",
        "                utterance = current_frame['utterance']\n",
        "\n",
        "                file_path = \"dialogue_018/intents/\" + intent + \"/\" + str(i) + \"_\" + str(j) + \".txt\"\n",
        "\n",
        "                f = open(file_path, \"w+\")\n",
        "                f.write(utterance)\n",
        "                f.close()\n",
        "\n",
        "                # Dados para o extrator de entidades\n",
        "                slots_dict = current_frame['frames'][0]['state']['slot_values']\n",
        "                all_values = [value for values in slots_dict.values() for value in values]\n",
        "\n",
        "                for each_value in all_values:\n",
        "                  base_path = \"dialogue_018/\" + each_value + \"/\"\n",
        "                  file_path_2 = \"dialogue_018/\" + each_value + \"/\" +  str(i) + \"_\" + str(j) + \".txt\"\n",
        "                  # Check if the directory exists\n",
        "                  if not os.path.exists(base_path):\n",
        "                      # If not, create the directory\n",
        "                      os.makedirs(base_path)\n",
        "                  f = open(file_path_2, \"w+\")\n",
        "                  f.write(utterance)\n",
        "                  f.close()"
      ]
    },
    {
      "cell_type": "code",
      "source": [
        "vocab_size"
      ],
      "metadata": {
        "colab": {
          "base_uri": "https://localhost:8080/"
        },
        "id": "zs2eVtI5X7LH",
        "outputId": "4f59a529-7392-478d-ef79-d3502ec32eef"
      },
      "execution_count": null,
      "outputs": [
        {
          "output_type": "execute_result",
          "data": {
            "text/plain": [
              "947"
            ]
          },
          "metadata": {},
          "execution_count": 31
        }
      ]
    },
    {
      "cell_type": "markdown",
      "metadata": {
        "id": "zAPqnY0WDLev"
      },
      "source": [
        "Armazenar numa estrutura para treinamento no Keras"
      ]
    },
    {
      "cell_type": "markdown",
      "source": [
        "### Dados para o classificador"
      ],
      "metadata": {
        "id": "ZGBk9fky4MUC"
      }
    },
    {
      "cell_type": "code",
      "source": [
        "import tensorflow as tf\n",
        "\n",
        "seed = 42"
      ],
      "metadata": {
        "id": "g1mVBMp3UDrb"
      },
      "execution_count": null,
      "outputs": []
    },
    {
      "cell_type": "code",
      "execution_count": null,
      "metadata": {
        "colab": {
          "base_uri": "https://localhost:8080/"
        },
        "id": "QPmrl8B1TrRt",
        "outputId": "307bad9e-2267-4cca-a113-dec3bcc6c988"
      },
      "outputs": [
        {
          "output_type": "stream",
          "name": "stdout",
          "text": [
            "Found 1052 files belonging to 5 classes.\n",
            "Using 842 files for training.\n",
            "Found 1052 files belonging to 5 classes.\n",
            "Using 210 files for validation.\n"
          ]
        }
      ],
      "source": [
        "raw_train_ds= tf.keras.utils.text_dataset_from_directory(\n",
        "    '/content/dialogue_018/intents',\n",
        "    labels='inferred',\n",
        "    validation_split=0.2,\n",
        "    subset='training',\n",
        "    seed=seed,\n",
        "    shuffle=False)\n",
        "\n",
        "raw_validation_ds = tf.keras.utils.text_dataset_from_directory(\n",
        "    '/content/dialogue_018/intents',\n",
        "    labels='inferred',\n",
        "    validation_split=0.2,\n",
        "    subset='validation',\n",
        "    seed=seed,\n",
        "    shuffle=False)"
      ]
    },
    {
      "cell_type": "code",
      "execution_count": null,
      "metadata": {
        "colab": {
          "base_uri": "https://localhost:8080/"
        },
        "id": "BWFgAwDctR5W",
        "outputId": "ffa73804-ac5c-4fc0-d048-58c6f673c334"
      },
      "outputs": [
        {
          "output_type": "execute_result",
          "data": {
            "text/plain": [
              "['NONE',\n",
              " 'ReserveOnewayFlight',\n",
              " 'ReserveRoundtripFlights',\n",
              " 'SearchOnewayFlight',\n",
              " 'SearchRoundtripFlights']"
            ]
          },
          "metadata": {},
          "execution_count": 5
        }
      ],
      "source": [
        "raw_train_ds.class_names"
      ]
    },
    {
      "cell_type": "code",
      "execution_count": null,
      "metadata": {
        "id": "xZMI9c_kFS5J"
      },
      "outputs": [],
      "source": [
        "for text_batch, label_batch in raw_train_ds:\n",
        "  print(\"Utterance: \", text_batch)\n",
        "  print(\"Label: \", label_batch)"
      ]
    },
    {
      "cell_type": "code",
      "execution_count": null,
      "metadata": {
        "colab": {
          "base_uri": "https://localhost:8080/"
        },
        "id": "wV7HzrCaIyWn",
        "outputId": "4da73636-3c76-4953-cfd8-5065e74695c7"
      },
      "outputs": [
        {
          "output_type": "stream",
          "name": "stdout",
          "text": [
            "<_BatchDataset element_spec=(TensorSpec(shape=(None,), dtype=tf.string, name=None), TensorSpec(shape=(None,), dtype=tf.int32, name=None))>\n"
          ]
        }
      ],
      "source": [
        "print(raw_train_ds)"
      ]
    },
    {
      "cell_type": "code",
      "source": [
        "raw_extractor_train_ds= tf.keras.utils.text_dataset_from_directory(\n",
        "    '/content/dialogue_018/',\n",
        "    labels='inferred',\n",
        "    validation_split=0.2,\n",
        "    subset='training',\n",
        "    seed=seed,\n",
        "    shuffle=False)\n",
        "\n",
        "raw_extractor_validation_ds = tf.keras.utils.text_dataset_from_directory(\n",
        "    '/content/dialogue_018/',\n",
        "    labels='inferred',\n",
        "    validation_split=0.2,\n",
        "    subset='validation',\n",
        "    seed=seed,\n",
        "    shuffle=False)"
      ],
      "metadata": {
        "colab": {
          "base_uri": "https://localhost:8080/"
        },
        "id": "b5WFBaiQ4U0H",
        "outputId": "c42e0425-7237-4f8c-d0fb-f634cee12cbb"
      },
      "execution_count": null,
      "outputs": [
        {
          "output_type": "stream",
          "name": "stdout",
          "text": [
            "Found 8068 files belonging to 296 classes.\n",
            "Using 6455 files for training.\n",
            "Found 8068 files belonging to 296 classes.\n",
            "Using 1613 files for validation.\n"
          ]
        }
      ]
    },
    {
      "cell_type": "code",
      "source": [
        "raw_extractor_train_ds.class_names"
      ],
      "metadata": {
        "id": "ig4FaZPE4nbl"
      },
      "execution_count": null,
      "outputs": []
    },
    {
      "cell_type": "markdown",
      "source": [
        "### Dados para o extrator"
      ],
      "metadata": {
        "id": "rRSodEhZ4PIt"
      }
    },
    {
      "cell_type": "markdown",
      "metadata": {
        "id": "nrVsXgbEJjjx"
      },
      "source": [
        "Acho que o Tensor acima é dividido em batches e acredito que isso adiciona uma complexidade na hora de tokenizar, pois teríamos que fazer para cada um dos tensores. Testei resolver fazer uma concatenação de todos os tensores abaixo:"
      ]
    },
    {
      "cell_type": "markdown",
      "source": [
        "Tensores para o classificador de intenções"
      ],
      "metadata": {
        "id": "wbX_9u0B40Eb"
      }
    },
    {
      "cell_type": "code",
      "execution_count": null,
      "metadata": {
        "id": "1o5cP6L6JLBx"
      },
      "outputs": [],
      "source": [
        "all_text_tensor = tf.concat([text_batch for text_batch, label_batch in raw_train_ds], axis=0)\n",
        "#all_text_tensor"
      ]
    },
    {
      "cell_type": "code",
      "execution_count": null,
      "metadata": {
        "id": "9Htct7EgLYae"
      },
      "outputs": [],
      "source": [
        "all_labels = tf.concat([label_batch for text_batch, label_batch in raw_train_ds], axis=0)\n",
        "#all_labels"
      ]
    },
    {
      "cell_type": "code",
      "execution_count": null,
      "metadata": {
        "id": "S0j0NKdNMA-9"
      },
      "outputs": [],
      "source": [
        "utterances_validation_tensor = tf.concat([text_batch for text_batch, label_batch in raw_validation_ds], axis=0)"
      ]
    },
    {
      "cell_type": "code",
      "execution_count": null,
      "metadata": {
        "id": "zeozrI7tMGi3"
      },
      "outputs": [],
      "source": [
        "validation_labels = tf.concat([label_batch for text_batch, label_batch in raw_validation_ds], axis=0)"
      ]
    },
    {
      "cell_type": "markdown",
      "source": [
        "Tensores para o extrator de entidades"
      ],
      "metadata": {
        "id": "bZ7tMp5b45cK"
      }
    },
    {
      "cell_type": "code",
      "source": [
        "extractor_texts_tensor = tf.concat([text_batch for text_batch, label_batch in raw_extractor_train_ds], axis=0)\n",
        "extractor_texts_tensor"
      ],
      "metadata": {
        "colab": {
          "base_uri": "https://localhost:8080/"
        },
        "id": "upLBd5JV37Ge",
        "outputId": "00a59408-ec26-40d7-d884-f6af01c6acf9"
      },
      "execution_count": null,
      "outputs": [
        {
          "output_type": "execute_result",
          "data": {
            "text/plain": [
              "<tf.Tensor: shape=(6455,), dtype=string, numpy=\n",
              "array([b'Yep that sounds good. What airport will I be flying into and what time will it arrive?',\n",
              "       b'Thanks for your help.', b'No, that will be all.', ...,\n",
              "       b'That is great.', b'Thanks. That is all.',\n",
              "       b'That is good. Can you buy me tickets?'], dtype=object)>"
            ]
          },
          "metadata": {},
          "execution_count": 16
        }
      ]
    },
    {
      "cell_type": "code",
      "source": [
        "extractor_labels_tensor = tf.concat([label_batch for text_batch, label_batch in raw_extractor_train_ds], axis=0)\n",
        "extractor_labels_tensor"
      ],
      "metadata": {
        "colab": {
          "base_uri": "https://localhost:8080/"
        },
        "id": "BD__Ul9v5Bkv",
        "outputId": "393b13d1-43ac-414c-aec3-ebbb453deb7f"
      },
      "execution_count": null,
      "outputs": [
        {
          "output_type": "execute_result",
          "data": {
            "text/plain": [
              "<tf.Tensor: shape=(6455,), dtype=int32, numpy=array([  0,   0,   0, ..., 251, 251, 251], dtype=int32)>"
            ]
          },
          "metadata": {},
          "execution_count": 17
        }
      ]
    },
    {
      "cell_type": "code",
      "source": [
        "extractor_validation_tensor = tf.concat([text_batch for text_batch, label_batch in raw_extractor_validation_ds], axis=0)"
      ],
      "metadata": {
        "id": "j5HDvcjT5RpS"
      },
      "execution_count": null,
      "outputs": []
    },
    {
      "cell_type": "code",
      "source": [
        "extractor_validation_labels = tf.concat([label_batch for text_batch, label_batch in raw_extractor_validation_ds], axis=0)"
      ],
      "metadata": {
        "id": "lZbNVCb25bxI"
      },
      "execution_count": null,
      "outputs": []
    },
    {
      "cell_type": "markdown",
      "metadata": {
        "id": "Ug1zDO2rMFLk"
      },
      "source": [
        "# Pre processamento de dados\n",
        "Fazer uma bag-of-words"
      ]
    },
    {
      "cell_type": "code",
      "execution_count": null,
      "metadata": {
        "id": "v7s5l7y6WWlB"
      },
      "outputs": [],
      "source": [
        "from keras.preprocessing.text import Tokenizer\n",
        "import json\n",
        "import numpy\n",
        "from keras.preprocessing import text, sequence"
      ]
    },
    {
      "cell_type": "markdown",
      "metadata": {
        "id": "OZj_2SooMm8V"
      },
      "source": [
        "### Train subset"
      ]
    },
    {
      "cell_type": "code",
      "execution_count": null,
      "metadata": {
        "id": "oWpBBYtYWdxe"
      },
      "outputs": [],
      "source": [
        "t = Tokenizer()\n",
        "texts = all_text_tensor.numpy().astype(str)\n",
        "t.fit_on_texts(texts)\n",
        "\n",
        "#print(t.document_count)\n",
        "print(t.word_index)\n",
        "#print(t.word_docs)\n",
        "# integer encode documents\n",
        "encoded_docs = t.texts_to_matrix(texts, mode='count')\n",
        "print(encoded_docs)"
      ]
    },
    {
      "cell_type": "code",
      "source": [
        "len(t.word_index)"
      ],
      "metadata": {
        "colab": {
          "base_uri": "https://localhost:8080/"
        },
        "id": "9VyBShwEgcPC",
        "outputId": "40430c26-c3e7-493d-aadf-ac8cbf26feaf"
      },
      "execution_count": null,
      "outputs": [
        {
          "output_type": "execute_result",
          "data": {
            "text/plain": [
              "410"
            ]
          },
          "metadata": {},
          "execution_count": 56
        }
      ]
    },
    {
      "cell_type": "code",
      "execution_count": null,
      "metadata": {
        "id": "HpdgcAJ2hTvw"
      },
      "outputs": [],
      "source": [
        "seq_token = t.texts_to_sequences(texts)\n",
        "padded_sequences = sequence.pad_sequences(seq_token)"
      ]
    },
    {
      "cell_type": "code",
      "execution_count": null,
      "metadata": {
        "colab": {
          "base_uri": "https://localhost:8080/"
        },
        "id": "hU7wKRXIh_XI",
        "outputId": "62a8e025-5806-476a-8983-b586f67805bd"
      },
      "outputs": [
        {
          "output_type": "execute_result",
          "data": {
            "text/plain": [
              "(842, 30)"
            ]
          },
          "metadata": {},
          "execution_count": 23
        }
      ],
      "source": [
        "padded_sequences.shape"
      ]
    },
    {
      "cell_type": "code",
      "execution_count": null,
      "metadata": {
        "colab": {
          "base_uri": "https://localhost:8080/"
        },
        "id": "Do62_JxXN6s3",
        "outputId": "ef75f503-aa5e-492c-aa06-a11003010332"
      },
      "outputs": [
        {
          "output_type": "execute_result",
          "data": {
            "text/plain": [
              "TensorShape([842])"
            ]
          },
          "metadata": {},
          "execution_count": 24
        }
      ],
      "source": [
        "all_labels.shape"
      ]
    },
    {
      "cell_type": "markdown",
      "metadata": {
        "id": "8EYJ9PZOMq-w"
      },
      "source": [
        "### Validation subset"
      ]
    },
    {
      "cell_type": "code",
      "execution_count": null,
      "metadata": {
        "id": "xWtIC13BMtHB"
      },
      "outputs": [],
      "source": [
        "t2 = Tokenizer()\n",
        "validation_texts = utterances_validation_tensor.numpy().astype(str)\n",
        "t2.fit_on_texts(validation_texts)\n",
        "validation_seq_token = t2.texts_to_sequences(validation_texts)\n",
        "padded_validation = sequence.pad_sequences(validation_seq_token)\n",
        "#padded_validation = sequence.pad_sequences(validation_seq_token, maxlen=30)"
      ]
    },
    {
      "cell_type": "code",
      "execution_count": null,
      "metadata": {
        "colab": {
          "base_uri": "https://localhost:8080/"
        },
        "id": "BlKhpjirNkUA",
        "outputId": "574d824c-5ad3-4e8e-ed23-227567c83fc7"
      },
      "outputs": [
        {
          "output_type": "execute_result",
          "data": {
            "text/plain": [
              "(210, 28)"
            ]
          },
          "metadata": {},
          "execution_count": 26
        }
      ],
      "source": [
        "padded_validation.shape"
      ]
    },
    {
      "cell_type": "code",
      "execution_count": null,
      "metadata": {
        "colab": {
          "base_uri": "https://localhost:8080/"
        },
        "id": "48Xna25DNty1",
        "outputId": "20391e6e-ec4a-43a8-b716-6af85b8eb345"
      },
      "outputs": [
        {
          "output_type": "execute_result",
          "data": {
            "text/plain": [
              "TensorShape([210])"
            ]
          },
          "metadata": {},
          "execution_count": 27
        }
      ],
      "source": [
        "validation_labels.shape"
      ]
    },
    {
      "cell_type": "markdown",
      "metadata": {
        "id": "Vrd0nYb4IDGn"
      },
      "source": [
        "# Classificação de intenções (Parte 1)\n",
        "https://www.tensorflow.org/api_docs/python/tf/keras/layers/LSTM </br>\n",
        "https://keras.io/examples/nlp/text_classification_with_transformer/ </br>"
      ]
    },
    {
      "cell_type": "markdown",
      "metadata": {
        "id": "cHp8IuBtIqbn"
      },
      "source": [
        "## LSTM"
      ]
    },
    {
      "cell_type": "code",
      "execution_count": null,
      "metadata": {
        "colab": {
          "base_uri": "https://localhost:8080/"
        },
        "id": "nG-26GAEZWk8",
        "outputId": "a289c69f-be65-40c7-944d-8fac72643541"
      },
      "outputs": [
        {
          "output_type": "stream",
          "name": "stdout",
          "text": [
            "Model: \"sequential_5\"\n",
            "_________________________________________________________________\n",
            " Layer (type)                Output Shape              Param #   \n",
            "=================================================================\n",
            " embedding_4 (Embedding)     (None, None, 20)          8620      \n",
            "                                                                 \n",
            " lstm_3 (LSTM)               (None, 64)                21760     \n",
            "                                                                 \n",
            " dense_3 (Dense)             (None, 5)                 325       \n",
            "                                                                 \n",
            "=================================================================\n",
            "Total params: 30705 (119.94 KB)\n",
            "Trainable params: 30705 (119.94 KB)\n",
            "Non-trainable params: 0 (0.00 Byte)\n",
            "_________________________________________________________________\n"
          ]
        }
      ],
      "source": [
        "from keras.models import Sequential\n",
        "from keras.layers import Input, Dense, LSTM\n",
        "from keras.layers import Embedding\n",
        "import keras.backend as K\n",
        "\n",
        "model_lstm = Sequential()\n",
        "model_lstm.add(Embedding(input_dim=len(word_index)+1, output_dim=20))\n",
        "model_lstm.add(LSTM(units=64))\n",
        "model_lstm.add(Dense(5,activation='softmax'))\n",
        "model_lstm.compile(loss=['sparse_categorical_crossentropy'] , optimizer='adam', metrics=['accuracy'])\n",
        "model_lstm.summary()"
      ]
    },
    {
      "cell_type": "code",
      "execution_count": null,
      "metadata": {
        "colab": {
          "base_uri": "https://localhost:8080/"
        },
        "id": "nrIhK-kabC9H",
        "outputId": "f98d8827-f221-44f7-cca5-da4d4c2992c3"
      },
      "outputs": [
        {
          "output_type": "stream",
          "name": "stdout",
          "text": [
            "Epoch 1/10\n",
            "27/27 [==============================] - 2s 16ms/step - loss: 1.4411 - accuracy: 0.4323\n",
            "Epoch 2/10\n",
            "27/27 [==============================] - 0s 17ms/step - loss: 1.2337 - accuracy: 0.4976\n",
            "Epoch 3/10\n",
            "27/27 [==============================] - 0s 16ms/step - loss: 1.1215 - accuracy: 0.6271\n",
            "Epoch 4/10\n",
            "27/27 [==============================] - 0s 16ms/step - loss: 0.9282 - accuracy: 0.6888\n",
            "Epoch 5/10\n",
            "27/27 [==============================] - 0s 17ms/step - loss: 0.8380 - accuracy: 0.7209\n",
            "Epoch 6/10\n",
            "27/27 [==============================] - 0s 17ms/step - loss: 0.7149 - accuracy: 0.7447\n",
            "Epoch 7/10\n",
            "27/27 [==============================] - 0s 16ms/step - loss: 0.6587 - accuracy: 0.7625\n",
            "Epoch 8/10\n",
            "27/27 [==============================] - 1s 26ms/step - loss: 0.5926 - accuracy: 0.8040\n",
            "Epoch 9/10\n",
            "27/27 [==============================] - 1s 27ms/step - loss: 0.5631 - accuracy: 0.8183\n",
            "Epoch 10/10\n",
            "27/27 [==============================] - 1s 28ms/step - loss: 0.4909 - accuracy: 0.8515\n"
          ]
        }
      ],
      "source": [
        "history_lstm = model_lstm.fit(padded_sequences, all_labels, epochs=10)"
      ]
    },
    {
      "cell_type": "code",
      "execution_count": null,
      "metadata": {
        "colab": {
          "base_uri": "https://localhost:8080/"
        },
        "id": "mzf3mFBgMOpB",
        "outputId": "3cda8eab-1a52-4577-b006-98219c1895c5"
      },
      "outputs": [
        {
          "output_type": "stream",
          "name": "stdout",
          "text": [
            "Epoch 1/10\n",
            "27/27 [==============================] - 4s 48ms/step - loss: 1.3926 - accuracy: 0.4287 - val_loss: 0.8451 - val_accuracy: 1.0000\n",
            "Epoch 2/10\n",
            "27/27 [==============================] - 1s 23ms/step - loss: 1.1208 - accuracy: 0.6045 - val_loss: 0.8833 - val_accuracy: 0.6857\n",
            "Epoch 3/10\n",
            "27/27 [==============================] - 1s 22ms/step - loss: 0.8520 - accuracy: 0.6995 - val_loss: 0.8679 - val_accuracy: 0.6286\n",
            "Epoch 4/10\n",
            "27/27 [==============================] - 1s 22ms/step - loss: 0.6662 - accuracy: 0.7565 - val_loss: 1.5056 - val_accuracy: 0.4905\n",
            "Epoch 5/10\n",
            "27/27 [==============================] - 1s 23ms/step - loss: 0.5582 - accuracy: 0.8207 - val_loss: 1.3898 - val_accuracy: 0.5619\n",
            "Epoch 6/10\n",
            "27/27 [==============================] - 1s 23ms/step - loss: 0.4805 - accuracy: 0.8504 - val_loss: 1.8051 - val_accuracy: 0.4810\n",
            "Epoch 7/10\n",
            "27/27 [==============================] - 1s 22ms/step - loss: 0.4161 - accuracy: 0.8563 - val_loss: 2.0225 - val_accuracy: 0.4286\n",
            "Epoch 8/10\n",
            "27/27 [==============================] - 1s 22ms/step - loss: 0.3758 - accuracy: 0.8610 - val_loss: 1.7235 - val_accuracy: 0.5619\n",
            "Epoch 9/10\n",
            "27/27 [==============================] - 1s 23ms/step - loss: 0.3464 - accuracy: 0.8729 - val_loss: 2.0350 - val_accuracy: 0.4810\n",
            "Epoch 10/10\n",
            "27/27 [==============================] - 1s 24ms/step - loss: 0.3123 - accuracy: 0.8884 - val_loss: 2.4912 - val_accuracy: 0.3952\n"
          ]
        }
      ],
      "source": [
        "history_with_validation_lstm = model_lstm.fit(padded_sequences, all_labels, validation_data=(padded_validation, validation_labels), epochs=10)"
      ]
    },
    {
      "cell_type": "markdown",
      "metadata": {
        "id": "zfWznDhyI9qE"
      },
      "source": [
        "## SVM"
      ]
    },
    {
      "cell_type": "code",
      "source": [
        "import json\n",
        "from sklearn.feature_extraction.text import CountVectorizer\n",
        "from sklearn.model_selection import train_test_split\n",
        "from sklearn.svm import SVC\n",
        "from sklearn.metrics import accuracy_score\n",
        "\n",
        "with open(\"dialogues_018.json\", 'r') as file:\n",
        "    data_018 = json.load(file)\n",
        "\n",
        "texts = []\n",
        "labels = []\n",
        "\n",
        "for i in range(len(data_018)):\n",
        "    frames_amount = len(data_018[i]['turns'])\n",
        "    for j in range(frames_amount):\n",
        "        current_frame = data_018[i]['turns'][j]\n",
        "        speaker = current_frame['speaker']\n",
        "        if speaker == 'USER':\n",
        "            intent = current_frame['frames'][0]['state']['active_intent']\n",
        "            utterance = current_frame['utterance']\n",
        "            texts.append(utterance)\n",
        "            labels.append(intent)\n",
        "\n",
        "texts_train, texts_validation, labels_train, labels_validation = train_test_split(texts, labels, test_size=0.2, random_state=42)\n",
        "\n",
        "vectorizer = CountVectorizer()\n",
        "X_train = vectorizer.fit_transform(texts_train)\n",
        "X_validation = vectorizer.transform(texts_validation)\n",
        "\n",
        "svm_model = SVC(kernel='linear', random_state=42)\n",
        "svm_model.fit(X_train, labels_train)\n",
        "\n",
        "predictions = svm_model.predict(X_validation)\n",
        "\n",
        "accuracy = accuracy_score(labels_validation, predictions)\n",
        "print(f'Acurácia do modelo SVM: {accuracy}')\n"
      ],
      "metadata": {
        "colab": {
          "base_uri": "https://localhost:8080/"
        },
        "id": "uNy6bwDU8j3B",
        "outputId": "1018d849-02f6-4d7c-d2b8-1daf9e29c6f7"
      },
      "execution_count": null,
      "outputs": [
        {
          "output_type": "stream",
          "name": "stdout",
          "text": [
            "Acurácia do modelo SVM: 0.8104265402843602\n"
          ]
        }
      ]
    },
    {
      "cell_type": "code",
      "source": [
        "# Exemplo de diálogo\n",
        "example_dialogue = [\n",
        "    {\"speaker\": \"USER\", \"utterance\": \"I would like a short trip to New York\"}\n",
        "    # Adicione mais turnos do diálogo conforme necessário\n",
        "]\n",
        "\n",
        "# Pré-processamento do exemplo de diálogo\n",
        "example_text = example_dialogue[0]['utterance']\n",
        "example_vector = vectorizer.transform([example_text])\n",
        "\n",
        "# Previsão do modelo SVM\n",
        "predicted_intent = svm_model.predict(example_vector)\n",
        "\n",
        "# Resultados\n",
        "print(f\"Texto do Usuário: {example_text}\")\n",
        "print(f\"Intenção Prevista: {predicted_intent[0]}\")\n"
      ],
      "metadata": {
        "colab": {
          "base_uri": "https://localhost:8080/"
        },
        "id": "hVX4CJlF-d2r",
        "outputId": "c3284575-5c5a-4cfa-891d-340bef9d8862"
      },
      "execution_count": null,
      "outputs": [
        {
          "output_type": "stream",
          "name": "stdout",
          "text": [
            "Texto do Usuário: I would like a short trip to New York\n",
            "Intenção Prevista: SearchRoundtripFlights\n"
          ]
        }
      ]
    },
    {
      "cell_type": "markdown",
      "metadata": {
        "id": "7EtR1gk5I_4A"
      },
      "source": [
        "## CNN"
      ]
    },
    {
      "cell_type": "code",
      "source": [
        "import pandas as pd\n",
        "import numpy as np\n",
        "import time\n",
        "\n",
        "from keras import layers\n",
        "from keras.models import Sequential\n",
        "from keras.layers import Dense, Activation\n",
        "from keras.preprocessing.text import Tokenizer, one_hot\n",
        "from keras.preprocessing.sequence import pad_sequences\n",
        "\n",
        "import sklearn\n",
        "from sklearn.model_selection import train_test_split\n",
        "from sklearn.metrics import classification_report, accuracy_score, confusion_matrix\n",
        "\n",
        "import matplotlib.pyplot as plt"
      ],
      "metadata": {
        "id": "JToZVtBNKY24"
      },
      "execution_count": null,
      "outputs": []
    },
    {
      "cell_type": "code",
      "source": [
        "from tensorflow.keras.models import Sequential\n",
        "from tensorflow.keras import layers\n",
        "\n",
        "model = Sequential()\n",
        "model.add(layers.Embedding(input_dim=842, output_dim=100))\n",
        "model.add(layers.Conv1D(128, 5, activation='relu'))\n",
        "model.add(layers.GlobalMaxPooling1D())\n",
        "model.add(layers.Dense(64, activation='relu'))\n",
        "model.add(layers.Dense(5, activation='softmax'))\n",
        "\n",
        "model.compile(optimizer='adam',\n",
        "              loss='categorical_crossentropy',  # Alterado para categorical_crossentropy\n",
        "              metrics=['accuracy'])\n",
        "\n",
        "print(model.summary())\n",
        "\n",
        "# Convertendo os rótulos para codificação one-hot\n",
        "from tensorflow.keras.utils import to_categorical\n",
        "labels_one_hot = to_categorical(all_labels, num_classes=5)\n",
        "\n",
        "# Fit do modelo\n",
        "history = model.fit(padded_sequences, labels_one_hot, epochs=10, validation_data=(padded_validation, to_categorical(validation_labels, num_classes=5)), batch_size=5)\n"
      ],
      "metadata": {
        "colab": {
          "base_uri": "https://localhost:8080/"
        },
        "id": "XQFSwl2lODBX",
        "outputId": "c89296a0-b2be-4663-df84-d0d50a769a20"
      },
      "execution_count": null,
      "outputs": [
        {
          "output_type": "stream",
          "name": "stdout",
          "text": [
            "Model: \"sequential_9\"\n",
            "_________________________________________________________________\n",
            " Layer (type)                Output Shape              Param #   \n",
            "=================================================================\n",
            " embedding_8 (Embedding)     (None, None, 100)         84200     \n",
            "                                                                 \n",
            " conv1d_8 (Conv1D)           (None, None, 128)         64128     \n",
            "                                                                 \n",
            " global_max_pooling1d_8 (Gl  (None, 128)               0         \n",
            " obalMaxPooling1D)                                               \n",
            "                                                                 \n",
            " dense_16 (Dense)            (None, 64)                8256      \n",
            "                                                                 \n",
            " dense_17 (Dense)            (None, 5)                 325       \n",
            "                                                                 \n",
            "=================================================================\n",
            "Total params: 156909 (612.93 KB)\n",
            "Trainable params: 156909 (612.93 KB)\n",
            "Non-trainable params: 0 (0.00 Byte)\n",
            "_________________________________________________________________\n",
            "None\n",
            "Epoch 1/10\n",
            "169/169 [==============================] - 6s 28ms/step - loss: 0.9865 - accuracy: 0.6496 - val_loss: 1.3784 - val_accuracy: 0.4571\n",
            "Epoch 2/10\n",
            "169/169 [==============================] - 1s 9ms/step - loss: 0.5180 - accuracy: 0.8325 - val_loss: 1.8332 - val_accuracy: 0.4333\n",
            "Epoch 3/10\n",
            "169/169 [==============================] - 1s 6ms/step - loss: 0.3749 - accuracy: 0.8717 - val_loss: 2.7881 - val_accuracy: 0.2571\n",
            "Epoch 4/10\n",
            "169/169 [==============================] - 1s 6ms/step - loss: 0.2939 - accuracy: 0.8907 - val_loss: 1.9813 - val_accuracy: 0.4667\n",
            "Epoch 5/10\n",
            "169/169 [==============================] - 1s 7ms/step - loss: 0.2171 - accuracy: 0.9240 - val_loss: 2.2794 - val_accuracy: 0.4476\n",
            "Epoch 6/10\n",
            "169/169 [==============================] - 1s 5ms/step - loss: 0.1757 - accuracy: 0.9371 - val_loss: 2.6466 - val_accuracy: 0.4000\n",
            "Epoch 7/10\n",
            "169/169 [==============================] - 1s 5ms/step - loss: 0.1445 - accuracy: 0.9477 - val_loss: 2.5176 - val_accuracy: 0.4286\n",
            "Epoch 8/10\n",
            "169/169 [==============================] - 1s 5ms/step - loss: 0.1246 - accuracy: 0.9525 - val_loss: 2.7134 - val_accuracy: 0.4667\n",
            "Epoch 9/10\n",
            "169/169 [==============================] - 1s 5ms/step - loss: 0.1086 - accuracy: 0.9596 - val_loss: 3.5510 - val_accuracy: 0.3095\n",
            "Epoch 10/10\n",
            "169/169 [==============================] - 1s 5ms/step - loss: 0.1021 - accuracy: 0.9572 - val_loss: 4.1802 - val_accuracy: 0.2714\n"
          ]
        }
      ]
    },
    {
      "cell_type": "code",
      "source": [
        "# Supondo que você tenha um novo texto a ser classificado\n",
        "new_text = \"i need to buy a one way flight\"\n",
        "\n",
        "new_sequence = t.texts_to_sequences([new_text])\n",
        "padded_new_sequence = pad_sequences(new_sequence, maxlen=10, padding='post')\n",
        "\n",
        "predictions = model.predict(padded_new_sequence)\n",
        "\n",
        "predicted_class = predictions.argmax(axis=-1)\n",
        "\n",
        "print(f'O texto foi classificado como classe: {predicted_class[0]}')\n"
      ],
      "metadata": {
        "colab": {
          "base_uri": "https://localhost:8080/"
        },
        "id": "91BRkozEPtpF",
        "outputId": "c7934442-b528-49aa-9d23-4463138da374"
      },
      "execution_count": null,
      "outputs": [
        {
          "output_type": "stream",
          "name": "stdout",
          "text": [
            "1/1 [==============================] - 0s 115ms/step\n",
            "O texto foi classificado como classe: 1\n"
          ]
        }
      ]
    },
    {
      "cell_type": "markdown",
      "metadata": {
        "id": "G75RfMxsHgcO"
      },
      "source": [
        "## Teste de transformer com BERT"
      ]
    },
    {
      "cell_type": "code",
      "execution_count": null,
      "metadata": {
        "id": "BusOX61MHjt4"
      },
      "outputs": [],
      "source": [
        "from transformers import BertTokenizer, TFBertForSequenceClassification\n",
        "from tensorflow.keras.layers import Dense"
      ]
    },
    {
      "cell_type": "code",
      "execution_count": null,
      "metadata": {
        "colab": {
          "base_uri": "https://localhost:8080/"
        },
        "id": "T_NIt4xuH4aU",
        "outputId": "1cb26ad9-6133-4a65-e38d-beb3572a6c41"
      },
      "outputs": [
        {
          "output_type": "stream",
          "name": "stderr",
          "text": [
            "All PyTorch model weights were used when initializing TFBertForSequenceClassification.\n",
            "\n",
            "Some weights or buffers of the TF 2.0 model TFBertForSequenceClassification were not initialized from the PyTorch model and are newly initialized: ['classifier.weight', 'classifier.bias']\n",
            "You should probably TRAIN this model on a down-stream task to be able to use it for predictions and inference.\n"
          ]
        }
      ],
      "source": [
        "# Load BERT tokenizer and model\n",
        "bert_model = TFBertForSequenceClassification.from_pretrained('bert-base-uncased', num_labels=5)"
      ]
    },
    {
      "cell_type": "code",
      "execution_count": null,
      "metadata": {
        "id": "v0Q_FlMyMhsT"
      },
      "outputs": [],
      "source": [
        "# Modify the model's classifier layer\n",
        "classifier_layer = Dense(5, activation='softmax',  name='classifier')\n",
        "bert_model.layers[-1]= classifier_layer"
      ]
    },
    {
      "cell_type": "code",
      "execution_count": null,
      "metadata": {
        "id": "zc16HSmWJXsR"
      },
      "outputs": [],
      "source": [
        "import keras\n",
        "opt = keras.optimizers.Adam(learning_rate=2e-5)\n",
        "bert_model.compile(optimizer=opt, loss='sparse_categorical_crossentropy', metrics=['accuracy'])"
      ]
    },
    {
      "cell_type": "code",
      "execution_count": null,
      "metadata": {
        "colab": {
          "base_uri": "https://localhost:8080/"
        },
        "id": "T_E03K1sJpWX",
        "outputId": "0e5ae41c-eba8-43c0-cea6-6dd86e2ed5ef"
      },
      "outputs": [
        {
          "output_type": "stream",
          "name": "stdout",
          "text": [
            "Epoch 1/3\n",
            "27/27 [==============================] - 328s 11s/step - loss: 3.1591 - accuracy: 0.3753\n",
            "Epoch 2/3\n",
            "27/27 [==============================] - 279s 10s/step - loss: 1.9506 - accuracy: 0.3717\n",
            "Epoch 3/3\n",
            "27/27 [==============================] - 283s 10s/step - loss: 1.4578 - accuracy: 0.4204\n"
          ]
        }
      ],
      "source": [
        "bert_history = bert_model.fit(\n",
        "    padded_sequences,\n",
        "    all_labels,\n",
        "    epochs=3\n",
        ")"
      ]
    },
    {
      "cell_type": "markdown",
      "source": [
        "# Extrator de entidades (Parte 2)\n",
        "Podemos definir algumas entidades:\n",
        "- Flight number\n",
        "- Airline\n",
        "- Departure time\n",
        "- Arrival time\n",
        "- Flight duration\n",
        "- Amount of passengers"
      ],
      "metadata": {
        "id": "oaKEUB_6OBOt"
      }
    },
    {
      "cell_type": "markdown",
      "source": [
        "### LSTM (Extrator)"
      ],
      "metadata": {
        "id": "p3GMncDqeypl"
      }
    },
    {
      "cell_type": "code",
      "source": [
        "t3 = Tokenizer()\n",
        "texts = extractor_texts_tensor.numpy().astype(str)\n",
        "t3.fit_on_texts(texts)\n",
        "seq_token = t3.texts_to_sequences(texts)\n",
        "padded_sequences_extractor_lstm = sequence.pad_sequences(seq_token)\n",
        "\n",
        "word_index = t3.word_index\n",
        "vocab_size = len(word_index)\n",
        "vocab_size"
      ],
      "metadata": {
        "id": "Fnxv8fMU3nx3",
        "colab": {
          "base_uri": "https://localhost:8080/"
        },
        "outputId": "dcbfd7ed-92cd-4d27-8324-b0cb2530f284"
      },
      "execution_count": null,
      "outputs": [
        {
          "output_type": "execute_result",
          "data": {
            "text/plain": [
              "430"
            ]
          },
          "metadata": {},
          "execution_count": 34
        }
      ]
    },
    {
      "cell_type": "code",
      "source": [
        "word_index"
      ],
      "metadata": {
        "id": "P_zqSj_Kav5n"
      },
      "execution_count": null,
      "outputs": []
    },
    {
      "cell_type": "code",
      "source": [
        "from tensorflow.keras.models import Sequential\n",
        "from tensorflow.keras.layers import Embedding, LSTM, Dense\n",
        "import math\n",
        "\n",
        "extractor_lstm = Sequential()\n",
        "extractor_lstm.add(Embedding(input_dim=vocab_size+1, output_dim=20))\n",
        "extractor_lstm.add(LSTM(units=100))\n",
        "# The number of units in Dense layer should be equal to the number of entity labels + 1\n",
        "extractor_lstm.add(Dense(296, activation='softmax'))\n",
        "extractor_lstm.compile(optimizer='adam', loss='sparse_categorical_crossentropy', metrics=['accuracy'])\n",
        "extractor_lstm.summary()\n"
      ],
      "metadata": {
        "colab": {
          "base_uri": "https://localhost:8080/"
        },
        "id": "i6jeGkILe9PC",
        "outputId": "77653fe4-1c8b-4ec0-b649-9158e5376b0b"
      },
      "execution_count": null,
      "outputs": [
        {
          "output_type": "stream",
          "name": "stdout",
          "text": [
            "Model: \"sequential_3\"\n",
            "_________________________________________________________________\n",
            " Layer (type)                Output Shape              Param #   \n",
            "=================================================================\n",
            " embedding_2 (Embedding)     (None, None, 20)          8620      \n",
            "                                                                 \n",
            " lstm_1 (LSTM)               (None, 100)               48400     \n",
            "                                                                 \n",
            " dense_1 (Dense)             (None, 296)               29896     \n",
            "                                                                 \n",
            "=================================================================\n",
            "Total params: 86916 (339.52 KB)\n",
            "Trainable params: 86916 (339.52 KB)\n",
            "Non-trainable params: 0 (0.00 Byte)\n",
            "_________________________________________________________________\n"
          ]
        }
      ]
    },
    {
      "cell_type": "code",
      "source": [
        "history_extractor_lstm = extractor_lstm.fit(padded_sequences_extractor_lstm, extractor_labels_tensor, epochs=10)\n"
      ],
      "metadata": {
        "colab": {
          "base_uri": "https://localhost:8080/"
        },
        "id": "YSmc87LEhIsn",
        "outputId": "0e9168b9-5b26-41d4-8d32-2c8c767828a2"
      },
      "execution_count": null,
      "outputs": [
        {
          "output_type": "stream",
          "name": "stdout",
          "text": [
            "Epoch 1/10\n",
            "202/202 [==============================] - 6s 23ms/step - loss: 4.9183 - accuracy: 0.0581\n",
            "Epoch 2/10\n",
            "202/202 [==============================] - 7s 33ms/step - loss: 4.7832 - accuracy: 0.0624\n",
            "Epoch 3/10\n",
            "202/202 [==============================] - 5s 23ms/step - loss: 4.7728 - accuracy: 0.0615\n",
            "Epoch 4/10\n",
            "202/202 [==============================] - 6s 32ms/step - loss: 4.7634 - accuracy: 0.0644\n",
            "Epoch 5/10\n",
            "202/202 [==============================] - 10s 50ms/step - loss: 4.7607 - accuracy: 0.0612\n",
            "Epoch 6/10\n",
            "202/202 [==============================] - 6s 29ms/step - loss: 4.7532 - accuracy: 0.0613\n",
            "Epoch 7/10\n",
            "202/202 [==============================] - 5s 23ms/step - loss: 4.7410 - accuracy: 0.0649\n",
            "Epoch 8/10\n",
            "202/202 [==============================] - 5s 24ms/step - loss: 4.7170 - accuracy: 0.0679\n",
            "Epoch 9/10\n",
            "202/202 [==============================] - 6s 28ms/step - loss: 4.6918 - accuracy: 0.0654\n",
            "Epoch 10/10\n",
            "202/202 [==============================] - 5s 23ms/step - loss: 4.6686 - accuracy: 0.0665\n"
          ]
        }
      ]
    },
    {
      "cell_type": "markdown",
      "source": [
        "### Transformer (Extrator)"
      ],
      "metadata": {
        "id": "XHFvEJP_e1xd"
      }
    },
    {
      "cell_type": "code",
      "source": [
        "bert_extractor = TFBertForSequenceClassification.from_pretrained('bert-base-uncased', num_labels=296)\n",
        "classifier_layer = Dense(296, activation='softmax',  name='classifier')\n",
        "bert_extractor.layers[-1]= classifier_layer"
      ],
      "metadata": {
        "id": "NruSNAF0jfUY",
        "colab": {
          "base_uri": "https://localhost:8080/",
          "height": 138,
          "referenced_widgets": [
            "7e2ab7651d68494db98332b522053fb7",
            "27a8bc864697422183aee8210798f5da",
            "46e31120d7e64537b42c68e99378ea4a",
            "ed74dcd4389d4c609324ead848e0d1ca",
            "1f5259324cbf4d5088fabfe9259d153d",
            "289624555bb1469fb5aade279fd33a31",
            "8999f913e8e14639be1e9a29aef70b1b",
            "7042c09437514f4aa88916d0c8656245",
            "7390847c96a94777843c71eaa4ed7b51",
            "5a73cb43b453457c88e9c926b0399ce3",
            "282abeefc3504cd88fefb2846700e514"
          ]
        },
        "outputId": "2edc4913-1005-4c4c-cc9b-210fe5984b1b"
      },
      "execution_count": null,
      "outputs": [
        {
          "output_type": "display_data",
          "data": {
            "text/plain": [
              "model.safetensors:   0%|          | 0.00/440M [00:00<?, ?B/s]"
            ],
            "application/vnd.jupyter.widget-view+json": {
              "version_major": 2,
              "version_minor": 0,
              "model_id": "7e2ab7651d68494db98332b522053fb7"
            }
          },
          "metadata": {}
        },
        {
          "output_type": "stream",
          "name": "stderr",
          "text": [
            "All PyTorch model weights were used when initializing TFBertForSequenceClassification.\n",
            "\n",
            "Some weights or buffers of the TF 2.0 model TFBertForSequenceClassification were not initialized from the PyTorch model and are newly initialized: ['classifier.weight', 'classifier.bias']\n",
            "You should probably TRAIN this model on a down-stream task to be able to use it for predictions and inference.\n"
          ]
        }
      ]
    },
    {
      "cell_type": "code",
      "source": [
        "bert_extractor.compile(optimizer='adam', loss='sparse_categorical_crossentropy', metrics=['accuracy'])"
      ],
      "metadata": {
        "id": "LjG2xoivU41O"
      },
      "execution_count": null,
      "outputs": []
    },
    {
      "cell_type": "code",
      "source": [
        "bert_history = bert_extractor.fit(\n",
        "    padded_sequences,\n",
        "    all_labels,\n",
        "    epochs=3\n",
        ")"
      ],
      "metadata": {
        "colab": {
          "base_uri": "https://localhost:8080/"
        },
        "id": "qjxA_X-hU83k",
        "outputId": "2245d5bb-84f5-485d-d0b1-4f6b773d8c04"
      },
      "execution_count": null,
      "outputs": [
        {
          "output_type": "stream",
          "name": "stdout",
          "text": [
            "Epoch 1/3\n"
          ]
        },
        {
          "output_type": "stream",
          "name": "stderr",
          "text": [
            "WARNING:tensorflow:AutoGraph could not transform <function infer_framework at 0x7fe4dbdbb010> and will run it as-is.\n",
            "Cause: for/else statement not yet supported\n",
            "To silence this warning, decorate the function with @tf.autograph.experimental.do_not_convert\n"
          ]
        },
        {
          "output_type": "stream",
          "name": "stdout",
          "text": [
            "WARNING: AutoGraph could not transform <function infer_framework at 0x7fe4dbdbb010> and will run it as-is.\n",
            "Cause: for/else statement not yet supported\n",
            "To silence this warning, decorate the function with @tf.autograph.experimental.do_not_convert\n",
            "27/27 [==============================] - 395s 11s/step - loss: 2.4536 - accuracy: 0.3444\n",
            "Epoch 2/3\n",
            "27/27 [==============================] - 300s 11s/step - loss: 4.6138 - accuracy: 0.3646\n",
            "Epoch 3/3\n",
            "27/27 [==============================] - 301s 11s/step - loss: 3.8709 - accuracy: 0.3848\n"
          ]
        }
      ]
    },
    {
      "cell_type": "markdown",
      "source": [
        "# Conversação"
      ],
      "metadata": {
        "id": "VyfJWXMsO0Nc"
      }
    },
    {
      "cell_type": "code",
      "source": [
        "def preprocess_input(user_input):\n",
        "  t = Tokenizer()\n",
        "  t.fit_on_texts(user_input)\n",
        "  seq_token = t.texts_to_sequences([user_input])\n",
        "  padded_sequences = sequence.pad_sequences(seq_token)\n",
        "  return padded_sequences"
      ],
      "metadata": {
        "id": "c1Li5WD1QL-i"
      },
      "execution_count": null,
      "outputs": []
    },
    {
      "cell_type": "code",
      "source": [
        "import numpy as np\n",
        "def classify_intent(preprocessed_input):\n",
        "  predictions = model_lstm.predict(np.array(preprocessed_input))\n",
        "\n",
        "  predicted_intent_index = np.argmax(predictions)\n",
        "  confidence = predictions[0][predicted_intent_index]\n",
        "\n",
        "  intents = [\"ReserveOnewayFlight\", \"SearchOnewayFlight\", \"SearchRoundtripFlights\", \"ReserveRoundtripFlights\", \"NONE\"]\n",
        "\n",
        "  predicted_intent = intents[predicted_intent_index]\n",
        "\n",
        "  return predicted_intent, confidence"
      ],
      "metadata": {
        "id": "FvHMYWXTQTT7"
      },
      "execution_count": null,
      "outputs": []
    },
    {
      "cell_type": "code",
      "source": [
        "def extract_entities(preprocessed_input):\n",
        "  predictions = bert_extractor.predict(preprocessed_input)\n",
        "  possible_entities = raw_extractor_train_ds.class_names\n",
        "  entity_labels = [possible_entities[i] for i, pred in enumerate(predictions[0]) if pred.any() > 0.5]\n",
        "\n",
        "  return entity_labels"
      ],
      "metadata": {
        "id": "iNK2-jkSQYPC"
      },
      "execution_count": null,
      "outputs": []
    },
    {
      "cell_type": "code",
      "source": [
        "def generate_response(combined_info):\n",
        "  pass"
      ],
      "metadata": {
        "id": "jp6wh03bQeMU"
      },
      "execution_count": null,
      "outputs": []
    },
    {
      "cell_type": "code",
      "source": [
        "while True:\n",
        "  user_input = input(\"User: \")\n",
        "\n",
        "  if user_input == \"Bye\":\n",
        "    break\n",
        "\n",
        "  preprocessed_input = preprocess_input(user_input)\n",
        "  #print(preprocessed_input.shape)\n",
        "\n",
        "  # Intent Classification\n",
        "  intent, confidence = classify_intent(preprocessed_input)\n",
        "\n",
        "  # Entity Extraction\n",
        "  entities = extract_entities(preprocessed_input)\n",
        "\n",
        "  # Combine Information\n",
        "  combined_info = {'intent': intent, 'confidence': confidence, 'entities': entities}\n",
        "\n",
        "  # Dialogue Management and Response Generation\n",
        "  #response = generate_response(combined_info)\n",
        "\n",
        "  print(f\"Intent: {intent}, Confidence: {confidence}\")\n",
        "  print(f\"Entities: {entities}\")\n",
        "  #print(f\"Bot: {response}\\n\")"
      ],
      "metadata": {
        "colab": {
          "base_uri": "https://localhost:8080/"
        },
        "id": "FKQcw1W0PDYG",
        "outputId": "582d1197-bc76-41fa-9e56-6fe4a20194dc"
      },
      "execution_count": null,
      "outputs": [
        {
          "name": "stdout",
          "output_type": "stream",
          "text": [
            "User: I want a flight to chicago\n",
            "1/1 [==============================] - 0s 21ms/step\n",
            "1/1 [==============================] - 0s 116ms/step\n",
            "Intent: SearchRoundtripFlights, Confidence: 0.28566914796829224\n",
            "Entities: ['0:10 am']\n",
            "User: I want a flight\n",
            "1/1 [==============================] - 0s 23ms/step\n",
            "1/1 [==============================] - 0s 133ms/step\n",
            "Intent: SearchRoundtripFlights, Confidence: 0.28566914796829224\n",
            "Entities: ['0:10 am']\n",
            "User: Bye\n"
          ]
        }
      ]
    }
  ],
  "metadata": {
    "colab": {
      "provenance": [],
      "collapsed_sections": [
        "zfWznDhyI9qE",
        "7EtR1gk5I_4A"
      ]
    },
    "kernelspec": {
      "display_name": "Python 3",
      "name": "python3"
    },
    "language_info": {
      "name": "python"
    },
    "widgets": {
      "application/vnd.jupyter.widget-state+json": {
        "7e2ab7651d68494db98332b522053fb7": {
          "model_module": "@jupyter-widgets/controls",
          "model_name": "HBoxModel",
          "model_module_version": "1.5.0",
          "state": {
            "_dom_classes": [],
            "_model_module": "@jupyter-widgets/controls",
            "_model_module_version": "1.5.0",
            "_model_name": "HBoxModel",
            "_view_count": null,
            "_view_module": "@jupyter-widgets/controls",
            "_view_module_version": "1.5.0",
            "_view_name": "HBoxView",
            "box_style": "",
            "children": [
              "IPY_MODEL_27a8bc864697422183aee8210798f5da",
              "IPY_MODEL_46e31120d7e64537b42c68e99378ea4a",
              "IPY_MODEL_ed74dcd4389d4c609324ead848e0d1ca"
            ],
            "layout": "IPY_MODEL_1f5259324cbf4d5088fabfe9259d153d"
          }
        },
        "27a8bc864697422183aee8210798f5da": {
          "model_module": "@jupyter-widgets/controls",
          "model_name": "HTMLModel",
          "model_module_version": "1.5.0",
          "state": {
            "_dom_classes": [],
            "_model_module": "@jupyter-widgets/controls",
            "_model_module_version": "1.5.0",
            "_model_name": "HTMLModel",
            "_view_count": null,
            "_view_module": "@jupyter-widgets/controls",
            "_view_module_version": "1.5.0",
            "_view_name": "HTMLView",
            "description": "",
            "description_tooltip": null,
            "layout": "IPY_MODEL_289624555bb1469fb5aade279fd33a31",
            "placeholder": "​",
            "style": "IPY_MODEL_8999f913e8e14639be1e9a29aef70b1b",
            "value": "model.safetensors: 100%"
          }
        },
        "46e31120d7e64537b42c68e99378ea4a": {
          "model_module": "@jupyter-widgets/controls",
          "model_name": "FloatProgressModel",
          "model_module_version": "1.5.0",
          "state": {
            "_dom_classes": [],
            "_model_module": "@jupyter-widgets/controls",
            "_model_module_version": "1.5.0",
            "_model_name": "FloatProgressModel",
            "_view_count": null,
            "_view_module": "@jupyter-widgets/controls",
            "_view_module_version": "1.5.0",
            "_view_name": "ProgressView",
            "bar_style": "success",
            "description": "",
            "description_tooltip": null,
            "layout": "IPY_MODEL_7042c09437514f4aa88916d0c8656245",
            "max": 440449768,
            "min": 0,
            "orientation": "horizontal",
            "style": "IPY_MODEL_7390847c96a94777843c71eaa4ed7b51",
            "value": 440449768
          }
        },
        "ed74dcd4389d4c609324ead848e0d1ca": {
          "model_module": "@jupyter-widgets/controls",
          "model_name": "HTMLModel",
          "model_module_version": "1.5.0",
          "state": {
            "_dom_classes": [],
            "_model_module": "@jupyter-widgets/controls",
            "_model_module_version": "1.5.0",
            "_model_name": "HTMLModel",
            "_view_count": null,
            "_view_module": "@jupyter-widgets/controls",
            "_view_module_version": "1.5.0",
            "_view_name": "HTMLView",
            "description": "",
            "description_tooltip": null,
            "layout": "IPY_MODEL_5a73cb43b453457c88e9c926b0399ce3",
            "placeholder": "​",
            "style": "IPY_MODEL_282abeefc3504cd88fefb2846700e514",
            "value": " 440M/440M [00:02&lt;00:00, 222MB/s]"
          }
        },
        "1f5259324cbf4d5088fabfe9259d153d": {
          "model_module": "@jupyter-widgets/base",
          "model_name": "LayoutModel",
          "model_module_version": "1.2.0",
          "state": {
            "_model_module": "@jupyter-widgets/base",
            "_model_module_version": "1.2.0",
            "_model_name": "LayoutModel",
            "_view_count": null,
            "_view_module": "@jupyter-widgets/base",
            "_view_module_version": "1.2.0",
            "_view_name": "LayoutView",
            "align_content": null,
            "align_items": null,
            "align_self": null,
            "border": null,
            "bottom": null,
            "display": null,
            "flex": null,
            "flex_flow": null,
            "grid_area": null,
            "grid_auto_columns": null,
            "grid_auto_flow": null,
            "grid_auto_rows": null,
            "grid_column": null,
            "grid_gap": null,
            "grid_row": null,
            "grid_template_areas": null,
            "grid_template_columns": null,
            "grid_template_rows": null,
            "height": null,
            "justify_content": null,
            "justify_items": null,
            "left": null,
            "margin": null,
            "max_height": null,
            "max_width": null,
            "min_height": null,
            "min_width": null,
            "object_fit": null,
            "object_position": null,
            "order": null,
            "overflow": null,
            "overflow_x": null,
            "overflow_y": null,
            "padding": null,
            "right": null,
            "top": null,
            "visibility": null,
            "width": null
          }
        },
        "289624555bb1469fb5aade279fd33a31": {
          "model_module": "@jupyter-widgets/base",
          "model_name": "LayoutModel",
          "model_module_version": "1.2.0",
          "state": {
            "_model_module": "@jupyter-widgets/base",
            "_model_module_version": "1.2.0",
            "_model_name": "LayoutModel",
            "_view_count": null,
            "_view_module": "@jupyter-widgets/base",
            "_view_module_version": "1.2.0",
            "_view_name": "LayoutView",
            "align_content": null,
            "align_items": null,
            "align_self": null,
            "border": null,
            "bottom": null,
            "display": null,
            "flex": null,
            "flex_flow": null,
            "grid_area": null,
            "grid_auto_columns": null,
            "grid_auto_flow": null,
            "grid_auto_rows": null,
            "grid_column": null,
            "grid_gap": null,
            "grid_row": null,
            "grid_template_areas": null,
            "grid_template_columns": null,
            "grid_template_rows": null,
            "height": null,
            "justify_content": null,
            "justify_items": null,
            "left": null,
            "margin": null,
            "max_height": null,
            "max_width": null,
            "min_height": null,
            "min_width": null,
            "object_fit": null,
            "object_position": null,
            "order": null,
            "overflow": null,
            "overflow_x": null,
            "overflow_y": null,
            "padding": null,
            "right": null,
            "top": null,
            "visibility": null,
            "width": null
          }
        },
        "8999f913e8e14639be1e9a29aef70b1b": {
          "model_module": "@jupyter-widgets/controls",
          "model_name": "DescriptionStyleModel",
          "model_module_version": "1.5.0",
          "state": {
            "_model_module": "@jupyter-widgets/controls",
            "_model_module_version": "1.5.0",
            "_model_name": "DescriptionStyleModel",
            "_view_count": null,
            "_view_module": "@jupyter-widgets/base",
            "_view_module_version": "1.2.0",
            "_view_name": "StyleView",
            "description_width": ""
          }
        },
        "7042c09437514f4aa88916d0c8656245": {
          "model_module": "@jupyter-widgets/base",
          "model_name": "LayoutModel",
          "model_module_version": "1.2.0",
          "state": {
            "_model_module": "@jupyter-widgets/base",
            "_model_module_version": "1.2.0",
            "_model_name": "LayoutModel",
            "_view_count": null,
            "_view_module": "@jupyter-widgets/base",
            "_view_module_version": "1.2.0",
            "_view_name": "LayoutView",
            "align_content": null,
            "align_items": null,
            "align_self": null,
            "border": null,
            "bottom": null,
            "display": null,
            "flex": null,
            "flex_flow": null,
            "grid_area": null,
            "grid_auto_columns": null,
            "grid_auto_flow": null,
            "grid_auto_rows": null,
            "grid_column": null,
            "grid_gap": null,
            "grid_row": null,
            "grid_template_areas": null,
            "grid_template_columns": null,
            "grid_template_rows": null,
            "height": null,
            "justify_content": null,
            "justify_items": null,
            "left": null,
            "margin": null,
            "max_height": null,
            "max_width": null,
            "min_height": null,
            "min_width": null,
            "object_fit": null,
            "object_position": null,
            "order": null,
            "overflow": null,
            "overflow_x": null,
            "overflow_y": null,
            "padding": null,
            "right": null,
            "top": null,
            "visibility": null,
            "width": null
          }
        },
        "7390847c96a94777843c71eaa4ed7b51": {
          "model_module": "@jupyter-widgets/controls",
          "model_name": "ProgressStyleModel",
          "model_module_version": "1.5.0",
          "state": {
            "_model_module": "@jupyter-widgets/controls",
            "_model_module_version": "1.5.0",
            "_model_name": "ProgressStyleModel",
            "_view_count": null,
            "_view_module": "@jupyter-widgets/base",
            "_view_module_version": "1.2.0",
            "_view_name": "StyleView",
            "bar_color": null,
            "description_width": ""
          }
        },
        "5a73cb43b453457c88e9c926b0399ce3": {
          "model_module": "@jupyter-widgets/base",
          "model_name": "LayoutModel",
          "model_module_version": "1.2.0",
          "state": {
            "_model_module": "@jupyter-widgets/base",
            "_model_module_version": "1.2.0",
            "_model_name": "LayoutModel",
            "_view_count": null,
            "_view_module": "@jupyter-widgets/base",
            "_view_module_version": "1.2.0",
            "_view_name": "LayoutView",
            "align_content": null,
            "align_items": null,
            "align_self": null,
            "border": null,
            "bottom": null,
            "display": null,
            "flex": null,
            "flex_flow": null,
            "grid_area": null,
            "grid_auto_columns": null,
            "grid_auto_flow": null,
            "grid_auto_rows": null,
            "grid_column": null,
            "grid_gap": null,
            "grid_row": null,
            "grid_template_areas": null,
            "grid_template_columns": null,
            "grid_template_rows": null,
            "height": null,
            "justify_content": null,
            "justify_items": null,
            "left": null,
            "margin": null,
            "max_height": null,
            "max_width": null,
            "min_height": null,
            "min_width": null,
            "object_fit": null,
            "object_position": null,
            "order": null,
            "overflow": null,
            "overflow_x": null,
            "overflow_y": null,
            "padding": null,
            "right": null,
            "top": null,
            "visibility": null,
            "width": null
          }
        },
        "282abeefc3504cd88fefb2846700e514": {
          "model_module": "@jupyter-widgets/controls",
          "model_name": "DescriptionStyleModel",
          "model_module_version": "1.5.0",
          "state": {
            "_model_module": "@jupyter-widgets/controls",
            "_model_module_version": "1.5.0",
            "_model_name": "DescriptionStyleModel",
            "_view_count": null,
            "_view_module": "@jupyter-widgets/base",
            "_view_module_version": "1.2.0",
            "_view_name": "StyleView",
            "description_width": ""
          }
        }
      }
    }
  },
  "nbformat": 4,
  "nbformat_minor": 0
}